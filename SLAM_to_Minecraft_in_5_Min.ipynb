{
  "nbformat": 4,
  "nbformat_minor": 0,
  "metadata": {
    "colab": {
      "name": "SLAM to Minecraft in 5 min.ipynb",
      "provenance": [],
      "collapsed_sections": [],
      "authorship_tag": "ABX9TyM2BT1XJ3J+m03TRxEH1LDC",
      "include_colab_link": true
    },
    "kernelspec": {
      "name": "python3",
      "display_name": "Python 3"
    },
    "language_info": {
      "name": "python"
    }
  },
  "cells": [
    {
      "cell_type": "markdown",
      "metadata": {
        "id": "view-in-github",
        "colab_type": "text"
      },
      "source": [
        "<a href=\"https://colab.research.google.com/github/cawcawlabs/ouster_lidar_appnotes/blob/main/SLAM_to_Minecraft_in_5_min.ipynb\" target=\"_parent\"><img src=\"https://colab.research.google.com/assets/colab-badge.svg\" alt=\"Open In Colab\"/></a>"
      ]
    },
    {
      "cell_type": "markdown",
      "source": [
        "##Transform a lidar recording to a minecraft map\n",
        "\n",
        "\n",
        "![picture](https://storage.googleapis.com/data.ouster.io/concept-engineering/colab_images/mine_vs_amulet.png\n",
        ")"
      ],
      "metadata": {
        "id": "Uj3kb5IxHGaD"
      }
    },
    {
      "cell_type": "markdown",
      "source": [
        "Let's make a 3D map out of Ouster lidar (Top Left), and turn it into a Minecraft map feature (Top Right)!"
      ],
      "metadata": {
        "id": "0Kbe-9ZPjVkh"
      }
    },
    {
      "cell_type": "markdown",
      "source": [
        "![picture](https://storage.googleapis.com/data.ouster.io/concept-engineering/colab_images/single-cave-scan.png)\n",
        "\n",
        "This image is a visualization of a single lidar scan, out of a real mineshaft pcap recording.<br>\n",
        "\n",
        "What if you want a coherent map out of entire sequential scans of the mine? \n",
        "The 3D points will have to be aggregated, and motion corrected. This is where a SLAM algorithm comes to rescue! <br>\n",
        "\n",
        "There are many flavors of SLAM, but here, we use a WebSLAM, a convenient web tool from Ouster to convert .pcap to a global coordinate map in .ply form.\n",
        "\n",
        "Based on LOAM, the WebSLAM finds optimal pose and map representation that best fits the given sequence of lidar + IMU observations (from the 6-DOF IMU within the sensor).  \n",
        "\n",
        "\n"
      ],
      "metadata": {
        "id": "W6y3X9a4UVcp"
      }
    },
    {
      "cell_type": "markdown",
      "source": [
        "##Generating SLAM output (already done for the example. Can skip this step for demo)\n",
        "\n",
        "Upload your .pcap & json file on https://webslam.ouster.dev/\n",
        "\n",
        "![picture](https://storage.googleapis.com/data.ouster.io/concept-engineering/colab_images/webslam.png)\n",
        "\n",
        "The SLAM process takes sometime, but .ply is what you need. \n",
        "\n",
        "![picture](https://storage.googleapis.com/data.ouster.io/concept-engineering/colab_images/after_webslam.png)\n",
        "\n",
        "Now, we grab and run with the .ply!\n",
        "\n",
        "Note that .ply can come from other SLAM solutions. See our SLAM partners such as Kudan for more info."
      ],
      "metadata": {
        "id": "1KFR21Nnk7LL"
      }
    },
    {
      "cell_type": "markdown",
      "source": [
        "After loading the .ply and visualising via open3d, you can see the motion corrected map, ready to be transformed into a minecraft feature! <br>\n",
        "\n",
        "Figure: .ply visualized in open3d (warning, RAM usage heavy)\n",
        "\n",
        "![picture](https://storage.googleapis.com/data.ouster.io/concept-engineering/colab_images/FULL_MINE.png)\n"
      ],
      "metadata": {
        "id": "s2jASEVSWqJT"
      }
    },
    {
      "cell_type": "markdown",
      "source": [
        "##Transform SLAM output to Mincraft world\n",
        "\n",
        "1. Download Webslam output as output.ply <br>\n",
        "2. Download Pre-generated superflat world \"FLAT_WORLD\" (creative, super flat, java 1.8.1)<br>\n",
        "3. Install open3d and amulet-core\n"
      ],
      "metadata": {
        "id": "zZLQxac1_kmO"
      }
    },
    {
      "cell_type": "code",
      "source": [
        "!wget https://storage.googleapis.com/data.ouster.io/concept-engineering/short_mine.ply"
      ],
      "metadata": {
        "id": "SIrDG0VgO7rv"
      },
      "execution_count": null,
      "outputs": []
    },
    {
      "cell_type": "code",
      "source": [
        "!wget https://storage.googleapis.com/data.ouster.io/concept-engineering/FLAT_WORLD.zip\n",
        "!unzip /content/FLAT_WORLD.zip"
      ],
      "metadata": {
        "id": "UpFxiyQ1ftaU"
      },
      "execution_count": null,
      "outputs": []
    },
    {
      "cell_type": "code",
      "source": [
        "!pip install open3d #tested on 0.15.2"
      ],
      "metadata": {
        "id": "vepnf-v4r0Px"
      },
      "execution_count": null,
      "outputs": []
    },
    {
      "cell_type": "code",
      "source": [
        "!pip install amulet-core #tested on amulet-core-1.7.0 amulet-nbt-1.0.4 pymctranslate-1.1.0\n"
      ],
      "metadata": {
        "id": "xxq3av1IFmcZ"
      },
      "execution_count": null,
      "outputs": []
    },
    {
      "cell_type": "markdown",
      "source": [
        "4. Load .ply to open3d instance, use Amulet-core map editor to map the list of 3D coordinates as \"Stone\" minecraft block after scaling. Save the world map\n"
      ],
      "metadata": {
        "id": "iI4IMHh0o1Zf"
      }
    },
    {
      "cell_type": "code",
      "source": [
        "import numpy as np\n",
        "import open3d as o3d\n",
        "\n",
        "import amulet\n",
        "from amulet.api.block import Block\n",
        "\n",
        "from tqdm.auto import tqdm\n",
        "\n",
        "voxel_size = 1\n",
        "#increase/decrease for low/high resolution but watch memory usage\n",
        "\n",
        "print(\"Step 1: (.pcap+json) -> WEBSLAM -> .ply is already done\")\n",
        "\n",
        "print(\"Step 2: .ply -> o3d pointcloud\")\n",
        "\n",
        "pcd = o3d.io.read_point_cloud('/content/short_mine.ply')\n",
        "\n",
        "block_grid = o3d.geometry.VoxelGrid.create_from_point_cloud(pcd,voxel_size=voxel_size)\n",
        "\n",
        "block_coordinates = np.array(list(v.grid_index[[0, 2, 1]] for v in tqdm(block_grid.get_voxels())))\n",
        "\n",
        "print(\"Step 3: Places Blocks in Minecraft\")\n",
        "game_version = (\"java\", (1, 18, 1))\n",
        "# load the pre-generated super flat level \"FLAT_WORLD\"\n",
        "level = amulet.load_level(\"/content/FLAT_WORLD\")\n",
        "\n",
        "position = (0,0,0) #(x,y,z)\n",
        "\n",
        "#There are more efficient ways to place blocks. See Amulet's API example.\n",
        "for pos in tqdm(block_coordinates):\n",
        "  block = Block(\"minecraft\", \"stone\")\n",
        "  level.set_version_block((int)(pos[0])+position[0],(int)(pos[1])+position[1],(int)(pos[2])+position[2],\n",
        "            \"minecraft:overworld\",\n",
        "            game_version,\n",
        "            block,\n",
        "  )\n",
        "        \n",
        "level.save()\n",
        "level.close()\n",
        "\n",
        "print(\".ply transported to FLAT_WORLD\")"
      ],
      "metadata": {
        "id": "b2pSb7lwsqal"
      },
      "execution_count": null,
      "outputs": []
    },
    {
      "cell_type": "code",
      "source": [
        "!zip -r /content/OUTPUT.zip /content/FLAT_WORLD"
      ],
      "metadata": {
        "id": "26UkTVAHIWqU"
      },
      "execution_count": null,
      "outputs": []
    },
    {
      "cell_type": "markdown",
      "source": [
        "5. Download the world map, and open in your own Mincraft (Java 1.8.1)."
      ],
      "metadata": {
        "id": "vbju7Ymjo6Ar"
      }
    },
    {
      "cell_type": "code",
      "source": [
        "from google.colab import files\n",
        "\n",
        "files.download('/content/OUTPUT.zip')"
      ],
      "metadata": {
        "colab": {
          "base_uri": "https://localhost:8080/",
          "height": 17
        },
        "id": "TBt73OsuIc9M",
        "outputId": "16936d16-8e8a-4526-b792-59c3d38af8f1"
      },
      "execution_count": null,
      "outputs": [
        {
          "output_type": "display_data",
          "data": {
            "text/plain": [
              "<IPython.core.display.Javascript object>"
            ],
            "application/javascript": [
              "\n",
              "    async function download(id, filename, size) {\n",
              "      if (!google.colab.kernel.accessAllowed) {\n",
              "        return;\n",
              "      }\n",
              "      const div = document.createElement('div');\n",
              "      const label = document.createElement('label');\n",
              "      label.textContent = `Downloading \"${filename}\": `;\n",
              "      div.appendChild(label);\n",
              "      const progress = document.createElement('progress');\n",
              "      progress.max = size;\n",
              "      div.appendChild(progress);\n",
              "      document.body.appendChild(div);\n",
              "\n",
              "      const buffers = [];\n",
              "      let downloaded = 0;\n",
              "\n",
              "      const channel = await google.colab.kernel.comms.open(id);\n",
              "      // Send a message to notify the kernel that we're ready.\n",
              "      channel.send({})\n",
              "\n",
              "      for await (const message of channel.messages) {\n",
              "        // Send a message to notify the kernel that we're ready.\n",
              "        channel.send({})\n",
              "        if (message.buffers) {\n",
              "          for (const buffer of message.buffers) {\n",
              "            buffers.push(buffer);\n",
              "            downloaded += buffer.byteLength;\n",
              "            progress.value = downloaded;\n",
              "          }\n",
              "        }\n",
              "      }\n",
              "      const blob = new Blob(buffers, {type: 'application/binary'});\n",
              "      const a = document.createElement('a');\n",
              "      a.href = window.URL.createObjectURL(blob);\n",
              "      a.download = filename;\n",
              "      div.appendChild(a);\n",
              "      a.click();\n",
              "      div.remove();\n",
              "    }\n",
              "  "
            ]
          },
          "metadata": {}
        },
        {
          "output_type": "display_data",
          "data": {
            "text/plain": [
              "<IPython.core.display.Javascript object>"
            ],
            "application/javascript": [
              "download(\"download_24e8d1c2-3d8f-41a5-9a93-08afdfe433a7\", \"OUTPUT.zip\", 485189)"
            ]
          },
          "metadata": {}
        }
      ]
    },
    {
      "cell_type": "markdown",
      "source": [
        "Extract OUTPUT.zip, grab \"FLAT_WORLD\" folder (now with our lidar point cloud), and open in Java 1.8.1 Minecraft.<br>\n",
        "Your minecraft map folders typically live in /Home/.minecraft/saves <br>\n",
        "\n",
        "\n",
        "![picture](https://storage.googleapis.com/data.ouster.io/concept-engineering/colab_images/minecraft_java.png)"
      ],
      "metadata": {
        "id": "ajTwIBZGEXE-"
      }
    },
    {
      "cell_type": "markdown",
      "source": [
        "Look up!!\n",
        "\n",
        "![picture](https://storage.googleapis.com/data.ouster.io/concept-engineering/colab_images/minecraft_view1.png)\n",
        "\n",
        "You can also use amulet_map_editor tool to inspect the ptcloud\n",
        "\n",
        "https://github.com/Amulet-Team/Amulet-Map-Editor\n"
      ],
      "metadata": {
        "id": "pfD0GbdHJL_p"
      }
    },
    {
      "cell_type": "markdown",
      "source": [
        "![picture](https://storage.googleapis.com/data.ouster.io/concept-engineering/colab_images/minecraft_view2.png)"
      ],
      "metadata": {
        "id": "vOF5oNUOAV6l"
      }
    },
    {
      "cell_type": "markdown",
      "source": [
        "##DISCUSSION\n",
        "\n",
        "1. .ply to digital asset generation is a pretty memory intensive operation! If you haven't noticed, we gave you an abridged version of the mineshaft slam output. If we gave the full version in ply, it would have terminated the google colab session. So we truncated the recording in pcap, ran a smaller data into the WebSLAM. The pixel sampling resolution in open3d also weighs heavily in the ability to render without exploding memory.\n",
        "2. SLAM is not a guarantee of perfect map generation and its performance depends on the environment it's asked to process.  Environments like Tunnels and caves are challenging due to lack of unique features to grasp and resolve observation residuals with. You'll notice that the abridged slam output is a bit more warped and blurry compared to the initial picture of the full mineslam. Here, less data (short recording of a straight segment) hurt our WebSLAM performance.\n",
        "3. The potential does not end with Minecraft! This is just a taste of what's possible in creating your digital twin with Ouster lidars!"
      ],
      "metadata": {
        "id": "Q9nRtLTHpF1w"
      }
    }
  ]
}
