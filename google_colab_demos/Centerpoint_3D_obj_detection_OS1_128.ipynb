{
  "nbformat": 4,
  "nbformat_minor": 0,
  "metadata": {
    "colab": {
      "name": "Centerpoint 3D obj detection+OS1-128.ipynb",
      "provenance": [],
      "collapsed_sections": [],
      "machine_shape": "hm",
      "background_execution": "on",
      "include_colab_link": true
    },
    "kernelspec": {
      "name": "python3",
      "display_name": "Python 3"
    },
    "accelerator": "GPU"
  },
  "cells": [
    {
      "cell_type": "markdown",
      "metadata": {
        "id": "view-in-github",
        "colab_type": "text"
      },
      "source": [
        "<a href=\"https://colab.research.google.com/github/cawcawlabs/ouster_lidar_appnotes/blob/main/google_colab_demos/Centerpoint_3D_obj_detection_OS1_128.ipynb\" target=\"_parent\"><img src=\"https://colab.research.google.com/assets/colab-badge.svg\" alt=\"Open In Colab\"/></a>"
      ]
    },
    {
      "cell_type": "code",
      "metadata": {
        "id": "vqq9v-Epv55f"
      },
      "source": [
        "!git clone https://github.com/cawcawlabs/CenterPoint.git\n",
        "!nvcc -V #check cuda version, done for 11.1\n",
        "!pip install torch==1.8.1+cu111 torchvision==0.9.1+cu111 torchaudio==0.8.1 -f https://download.pytorch.org/whl/lts/1.8/torch_lts.html\n",
        "!pip install torchtext==0.9.1\n",
        "#https://github.com/qubvel/segmentation_models.pytorch/issues/424\n",
        "import os\n",
        "%cd /content/CenterPoint/\n",
        "!pip install -r requirements.txt\n",
        "\n",
        "%cd /content/\n",
        "os.environ['PYTHONPATH'] += \":/content/CenterPoint/\"\n",
        "!echo $PYTHONPATH\n",
        "\n",
        "!git clone https://github.com/cawcawlabs/nuscenes-devkit.git\n",
        "os.environ['PYTHONPATH'] += \":/content/nuscenes-devkit/python-sdk\"\n",
        "!echo $PYTHONPATH\n",
        "\n",
        "%cd /content/CenterPoint/\n",
        "!export PATH=/usr/local/cuda-11.0/bin:$PATH\n",
        "!export CUDA_PATH=/usr/local/cuda-11.0\n",
        "!export CUDA_HOME=/usr/local/cuda-11.0\n",
        "!export LD_LIBRARY_PATH=/usr/local/cuda-11.0/lib64:$LD_LIBRARY_PATH\n",
        "!bash setup.sh\n",
        "%cd /content/\n",
        "!git clone https://github.com/NVIDIA/apex\n",
        "%cd /content/apex\n",
        "!git checkout 5633f6\n",
        "!pip install -v --no-cache-dir --global-option=\"--cpp_ext\" --global-option=\"--cuda_ext\" ./\n",
        "#getting the latest spconv-cu111\n",
        "!pip install spconv-cu111\n",
        "!apt-get install libboost-all-dev\n",
        "\n",
        "%cd /content/CenterPoint\n",
        "!wget https://storage.googleapis.com/data.ouster.io/concept-engineering/ctp/demo.zip\n",
        "!unzip /content/CenterPoint/demo.zip\n",
        "%cd /content/CenterPoint/\n",
        "%mkdir work_dirs\n",
        "%cd /content/CenterPoint/work_dirs/\n",
        "%mkdir centerpoint_pillar_512_demo\n",
        "%cd /content/CenterPoint/work_dirs/centerpoint_pillar_512_demo\n",
        "!wget https://storage.googleapis.com/data.ouster.io/concept-engineering/ctp/centerpoint_pillar_512_demo.zip\n",
        "!unzip ./centerpoint_pillar_512_demo.zip\n",
        "%cd /content/CenterPoint/work_dirs/\n",
        "%mkdir ouster_data\n"
      ],
      "execution_count": null,
      "outputs": []
    },
    {
      "cell_type": "markdown",
      "metadata": {
        "id": "5liazonNTrNy"
      },
      "source": [
        "#TEST INFERENCE #1 (Ouster REV6 data, calibrated reflectivity) <br> \n",
        "generate nuscenes pcd.bin from ouster pcap recording then run inference.<br>\n",
        "Calibrated Reflectivity, results stored as png per frame on /CenterPoint/demo/filexxxxx.png, and /CenterPoint/video.avi"
      ]
    },
    {
      "cell_type": "code",
      "source": [
        "#%cd /content/\n",
        "#!wget https://data.ouster.io/sdk-samples/Rev-05/OS1-128_Rev-05_Urban-Drive/OS1-128_Rev-05_Urban-Drive.zip\n",
        "#!unzip /content/OS1-128_Rev-05_Urban-Drive.zip"
      ],
      "metadata": {
        "id": "KU_x2HdrJPyn"
      },
      "execution_count": null,
      "outputs": []
    },
    {
      "cell_type": "code",
      "source": [
        "#REV6 urban drive sample, calibrated reflectivity\n",
        "%cd /content/\n",
        "!wget https://storage.googleapis.com/data.ouster.io/concept-engineering/ctp/OS-1-128_v2.3.0_1024x10_20220419_160551-000.pcap\n",
        "!wget https://storage.googleapis.com/data.ouster.io/concept-engineering/ctp/OS-1-128_v2.3.0_1024x10_20220419_160551.json"
      ],
      "metadata": {
        "id": "dF_jt82q_aw7"
      },
      "execution_count": null,
      "outputs": []
    },
    {
      "cell_type": "code",
      "source": [
        "!pip install 'ouster-sdk'"
      ],
      "metadata": {
        "id": "bA-MutVIJTu0"
      },
      "execution_count": null,
      "outputs": []
    },
    {
      "cell_type": "code",
      "source": [
        "#PREP pcaps to nuscenes compatible pcd.bin\n",
        "\n",
        "import numpy as np\n",
        "from ouster import client\n",
        "from ouster import pcap\n",
        "from contextlib import closing\n",
        "from more_itertools import nth\n",
        "\n",
        "#pcap_path = '/content/OS1-128_Rev-05_Urban-Drive.pcap'\n",
        "#metadata_path = '/content/OS1-128_Rev-05_Urban-Drive.json'\n",
        "\n",
        "pcap_path = '/content/OS-1-128_v2.3.0_1024x10_20220419_160551-000.pcap'\n",
        "metadata_path = '/content/OS-1-128_v2.3.0_1024x10_20220419_160551.json'\n",
        "\n",
        "\n",
        "\n",
        "with open(metadata_path, 'r') as f:\n",
        "    info = client.SensorInfo(f.read())\n",
        "\n",
        "source = pcap.Pcap(pcap_path, info)\n",
        "\n",
        "with closing(client.Scans(source)) as scans:\n",
        "    index = 0\n",
        "    for scan in scans:\n",
        "      print(index)\n",
        "      #print(scan.frame_id)\n",
        "      xyzlut = client.XYZLut(scans.metadata)\n",
        "      #destagger\n",
        "      signal  = client.destagger(scans.metadata,scan.field(client.ChanField.REFLECTIVITY))\n",
        "      #signal = (signal / np.max(signal)).astype(np.float32) #will probably determine accuracy here\n",
        "      xyz_destaggered = client.destagger(scans.metadata, xyzlut(scan))\n",
        "      [x, y, z] = [c.flatten() for c in np.dsplit(xyz_destaggered, 3)]\n",
        "      signal = signal.flatten()\n",
        "      point_cloud = np.asarray([x,y,z,signal], dtype =  np.float32).transpose() #find ways to add zero\n",
        "\n",
        "      #print(point_cloud.shape) #262144X4\n",
        "\n",
        "      zero_pad = np.zeros((len(point_cloud),1),dtype=np.float32) #fake ring data (not used)\n",
        "\n",
        "      nuscenes = np.hstack((point_cloud,zero_pad))\n",
        "\n",
        "      file_index = str(index).zfill(5) #00000 scenes\n",
        "      nuscenes.tofile('/content/CenterPoint/work_dirs/ouster_data/ouster_{}.pcd.bin'.format(file_index))\n",
        "\n",
        "      index+=1\n"
      ],
      "metadata": {
        "id": "imaIEMWgJJmW"
      },
      "execution_count": null,
      "outputs": []
    },
    {
      "cell_type": "code",
      "source": [
        "%cd /content/CenterPoint\n",
        "!python ./ouster_single_inference.py"
      ],
      "metadata": {
        "id": "1o9fW7gjnEee",
        "colab": {
          "base_uri": "https://localhost:8080/"
        },
        "outputId": "46f8a90e-6a0d-4eaf-bbaf-e112b40fdeb9"
      },
      "execution_count": null,
      "outputs": [
        {
          "output_type": "stream",
          "name": "stdout",
          "text": [
            "/content/CenterPoint\n",
            "/usr/local/lib/python3.7/dist-packages/requests/__init__.py:91: RequestsDependencyWarning: urllib3 (1.26.9) or chardet (3.0.4) doesn't match a supported version!\n",
            "  RequestsDependencyWarning)\n",
            "No Tensorflow\n",
            "Deformable Convolution not built!\n",
            "Use HM Bias:  -2.19\n",
            "  0% 0/720 [00:00<?, ?it/s]/content/CenterPoint/work_dirs/ouster_data/ouster_00000.pcd.bin\n",
            "{'boxes': array([[-7.39154434e+00,  5.05042267e+00, -1.26426589e+00, ...,\n",
            "         9.72824576e-09,  2.99704062e-09,  1.57614589e+00],\n",
            "       [ 2.26502609e+00,  5.14960861e+00, -8.91525984e-01, ...,\n",
            "        -2.40401077e+00, -1.07591033e-01,  1.55452466e+00],\n",
            "       [-1.08146133e+01, -3.40338898e+00, -1.30688608e+00, ...,\n",
            "         9.72824576e-09,  2.99704062e-09, -1.55909109e+00],\n",
            "       ...,\n",
            "       [ 2.18251915e+01,  1.47205925e+01, -8.94743800e-01, ...,\n",
            "        -2.82468856e-04, -3.85179010e-04,  1.19341016e+00],\n",
            "       [-1.11037445e+00, -1.00735664e+01, -6.66422367e-01, ...,\n",
            "         1.20257447e-02,  1.86759867e-02, -1.50157499e+00],\n",
            "       [ 2.75143433e+00,  1.25801811e+01, -3.53812397e-01, ...,\n",
            "        -3.70127475e-03, -1.96862966e-03,  8.56651604e-01]], dtype=float32), 'scores': array([0.868963  , 0.8375708 , 0.7719617 , 0.7671377 , 0.7617823 ,\n",
            "       0.75231224, 0.67768306, 0.67027617, 0.66408753, 0.6628527 ,\n",
            "       0.6600178 , 0.64563966, 0.62185174, 0.5913581 , 0.5792764 ,\n",
            "       0.57253575, 0.49226227, 0.4762342 , 0.47089878, 0.4064175 ,\n",
            "       0.39787477, 0.30106953, 0.2875091 , 0.23987217, 0.17752735,\n",
            "       0.17066054, 0.16528141, 0.16075486, 0.15931283, 0.15536505,\n",
            "       0.14814402, 0.13663913, 0.13532118, 0.13186844, 0.13174123,\n",
            "       0.12750666, 0.12577648, 0.12348048, 0.11660811, 0.11158127,\n",
            "       0.11137625, 0.10350665, 0.10242064, 0.10076381, 0.5165977 ,\n",
            "       0.26593423, 0.23264188, 0.21174957, 0.20466146, 0.19517462,\n",
            "       0.18422033, 0.1499748 , 0.144362  , 0.14049156, 0.13758181,\n",
            "       0.13482632, 0.1340898 , 0.13370454, 0.12758058, 0.12654798,\n",
            "       0.12356007, 0.11862169, 0.11564589, 0.11540527, 0.10810225,\n",
            "       0.10737301, 0.10583796, 0.10559834, 0.10311119, 0.10234731,\n",
            "       0.3719527 , 0.2099546 , 0.17745873, 0.17006941, 0.1601365 ,\n",
            "       0.13999219, 0.45731762, 0.22842166, 0.22419833, 0.21662918,\n",
            "       0.19177277, 0.16507915, 0.1644015 , 0.14272979, 0.12983426,\n",
            "       0.1282209 , 0.11925307, 0.11810768, 0.11761563, 0.10906191,\n",
            "       0.10715009, 0.10307948, 0.10243118, 0.5466647 , 0.45167008,\n",
            "       0.4254561 , 0.35572112, 0.34405482, 0.3272563 , 0.28394872,\n",
            "       0.26041418, 0.2543539 , 0.23965368, 0.22460493, 0.22161125,\n",
            "       0.21790515, 0.2085178 , 0.20286585, 0.20075989, 0.19577734,\n",
            "       0.19573537, 0.18986219, 0.18753688, 0.18433449, 0.18307959,\n",
            "       0.17648713, 0.17589736, 0.17164229, 0.17016365, 0.17008488,\n",
            "       0.16533235, 0.16412908, 0.16331747, 0.16198698, 0.16093488,\n",
            "       0.16043754, 0.15685856, 0.15606916, 0.15601493, 0.1502205 ,\n",
            "       0.14859943, 0.14782447, 0.14676106, 0.14644462, 0.14582497,\n",
            "       0.1337501 , 0.1334941 , 0.13344482, 0.13318907, 0.13303211,\n",
            "       0.12590484, 0.11807379, 0.11526651, 0.11174817, 0.11102602,\n",
            "       0.10969884, 0.1081013 , 0.10745552, 0.10593504, 0.10509859,\n",
            "       0.10444923, 0.10351039, 0.1028988 , 0.10210977, 0.10101529,\n",
            "       0.10088851, 0.1002953 , 0.10014345, 0.7383458 , 0.6994173 ,\n",
            "       0.6694166 , 0.6369278 , 0.62218535, 0.61482227, 0.60173804,\n",
            "       0.546424  , 0.5398522 , 0.53855646, 0.5179677 , 0.5154948 ,\n",
            "       0.51406157, 0.4880937 , 0.46969748, 0.4689885 , 0.46595317,\n",
            "       0.46306112, 0.44250312, 0.4415929 , 0.42409495, 0.41410428,\n",
            "       0.40649796, 0.40637666, 0.3915997 , 0.3865244 , 0.38145763,\n",
            "       0.37796348, 0.37119055, 0.36356157, 0.36347288, 0.34760165,\n",
            "       0.3410527 , 0.33802724, 0.33745122, 0.33644643, 0.33634108,\n",
            "       0.33587977, 0.33009663, 0.32730243, 0.3261254 , 0.32610384,\n",
            "       0.3260165 , 0.3215006 , 0.31953925, 0.31747672, 0.30451748,\n",
            "       0.30334613, 0.30267572, 0.30227265, 0.29789323, 0.2924544 ,\n",
            "       0.2882626 , 0.27948588, 0.27405828, 0.27394062, 0.27344462,\n",
            "       0.27249846, 0.27106088, 0.26966184, 0.26715577, 0.26540715,\n",
            "       0.26444772, 0.2633893 , 0.25969633, 0.25631046, 0.25552565,\n",
            "       0.2551351 , 0.25432256, 0.24931438, 0.24850926, 0.24638975,\n",
            "       0.24195665, 0.24115193, 0.24084836, 0.24027231, 0.23969741,\n",
            "       0.2333741 , 0.23071599, 0.23021264, 0.22888398, 0.22604452,\n",
            "       0.22577423], dtype=float32), 'classes': array([0, 0, 0, 0, 0, 0, 0, 0, 0, 0, 0, 0, 0, 0, 0, 0, 0, 0, 0, 0, 0, 0,\n",
            "       0, 0, 0, 0, 0, 0, 0, 0, 0, 0, 0, 0, 0, 0, 0, 0, 0, 0, 0, 0, 0, 0,\n",
            "       1, 1, 2, 1, 1, 1, 1, 1, 2, 1, 1, 1, 1, 2, 1, 2, 1, 2, 1, 1, 1, 1,\n",
            "       2, 1, 2, 1, 3, 4, 4, 4, 3, 4, 5, 5, 5, 5, 5, 5, 5, 5, 5, 5, 5, 5,\n",
            "       5, 5, 5, 5, 5, 6, 6, 7, 7, 6, 7, 6, 6, 6, 6, 7, 7, 6, 7, 6, 7, 7,\n",
            "       6, 6, 6, 6, 6, 6, 7, 7, 6, 7, 7, 7, 6, 7, 7, 6, 6, 7, 7, 7, 7, 7,\n",
            "       7, 7, 7, 6, 6, 6, 6, 6, 6, 6, 7, 6, 7, 7, 7, 7, 7, 7, 6, 7, 6, 7,\n",
            "       7, 6, 6, 6, 9, 9, 9, 8, 8, 8, 8, 8, 9, 9, 8, 8, 9, 8, 9, 9, 9, 9,\n",
            "       8, 9, 8, 8, 9, 8, 8, 9, 8, 9, 9, 8, 9, 9, 9, 8, 9, 8, 9, 8, 8, 8,\n",
            "       8, 9, 8, 8, 9, 8, 8, 9, 8, 9, 8, 8, 9, 8, 8, 9, 8, 9, 8, 9, 8, 9,\n",
            "       8, 9, 9, 8, 8, 8, 8, 8, 9, 9, 8, 9, 8, 8, 8, 8, 8, 9, 9, 8, 8])}\n",
            "Done model inference. Please wait a minute, the matplotlib is a little slow...\n",
            "  0% 0/720 [00:06<?, ?it/s]\n",
            "Successfully save video in the main folder\n",
            "\u001b[0m"
          ]
        }
      ]
    }
  ]
}